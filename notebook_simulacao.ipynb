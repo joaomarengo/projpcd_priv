{
 "cells": [
  {
   "cell_type": "markdown",
   "id": "c6f09c5e",
   "metadata": {},
   "source": [
    "Código - Simulação da Cinética Enzimática\n",
    "===========================================================\n",
    "\n",
    "**Autores:**  \n",
    "\n",
    "João Gabriel Lima Marengo  \n",
    "Joaquim Junior Ferola Fonseca  \n",
    "Sophia Alves da Silva\n",
    "\n",
    "---"
   ]
  },
  {
   "cell_type": "markdown",
   "id": "ba6507c8",
   "metadata": {},
   "source": [
    "## 1. Importação das Bibliotecas\n",
    "\n",
    "Primeiramente, importamos as bibliotecas que serão usadas para cálculos, gráficos e construção da interface.\n",
    "\n",
    "> ⚠️ Caso ainda não tenha as bibliotecas instaladas, execute o comando abaixo:"
   ]
  },
  {
   "cell_type": "code",
   "execution_count": null,
   "id": "e4023872",
   "metadata": {},
   "outputs": [],
   "source": [
    "!pip install plotly dash numpy"
   ]
  },
  {
   "cell_type": "markdown",
   "id": "5e3c0e6a",
   "metadata": {},
   "source": [
    "Após garantir que as bibliotecas estão instaladas, podemos iniciar a importação:"
   ]
  },
  {
   "cell_type": "code",
   "execution_count": 8,
   "id": "27996ceb",
   "metadata": {},
   "outputs": [],
   "source": [
    "import plotly.graph_objects as go\n",
    "from dash import Dash, dcc, html, Input, Output\n",
    "import numpy as np\n",
    "import math"
   ]
  },
  {
   "cell_type": "markdown",
   "id": "41e59cce",
   "metadata": {},
   "source": [
    "\n",
    "## 2. Codificação da Função Base\n",
    "\n",
    "Após importar as bibliotecas necessárias, o próximo passo é definir a função `velocidade_da_reacao`, responsável por calcular a taxa da reação enzimática com base em múltiplos parâmetros físico-químicos.\n",
    "\n",
    "Essa função será usada para calcular a velocidade da reação enzimática no código que se segue, permitindo analisar como diferentes parâmetros (temperatura, pH, concentração, etc.) influenciam o comportamento da enzima."
   ]
  },
  {
   "cell_type": "code",
   "execution_count": 9,
   "id": "436deb52",
   "metadata": {},
   "outputs": [],
   "source": [
    "def velocidade_da_reacao(S, T, pH, pKa, pKb, Vmax_ref, Ea, T_ref, Km_ref, deltaH, T_opt, sigma):\n",
    "    T_K = T + 273.15\n",
    "    T_ref_K = T_ref + 273.15\n",
    "    T_opt_K = T_opt + 273.15\n",
    "\n",
    "    term1 = 1 / (1 + 10**(pKa - pH) + 10**(pH - pKb))\n",
    "    exp1 = math.exp((-Ea * 1000 / 8.314) * (1 / T_K - 1 / T_ref_K))\n",
    "    exp2 = math.exp((deltaH * 1000 / 8.314) * (1 / T_K - 1 / T_ref_K))\n",
    "    fator_f = math.exp(-((T_K - T_opt_K) / sigma)**2)\n",
    "\n",
    "    numerador = Vmax_ref * exp1 * fator_f * S\n",
    "    denominador = Km_ref * exp2 + S\n",
    "\n",
    "    return term1 * (numerador / denominador)\n"
   ]
  },
  {
   "cell_type": "markdown",
   "id": "265712de",
   "metadata": {},
   "source": [
    "## 3. Construção da Interface\n",
    "\n",
    "Após definirmos a função que calcula a velocidade da reação, construímos a interface da aplicação com a biblioteca **Dash**, dividindo-a em duas colunas: à esquerda, os campos de entrada para ajuste dos parâmetros da reação; à direita, um gráfico 3D interativo gerado com Plotly que mostra os efeitos desses parâmetros.\n",
    "\n",
    "A linha `app = Dash(__name__)` inicializa o app, conectando a interface visual à lógica de cálculo do backend. O argumento `__name__` indica o local do script para garantir o funcionamento correto.\n",
    "\n",
    "Para um visual claro e funcional, aplicamos estilos baseados no *flat design*, definidos em dicionários Python para facilitar sua aplicação:\n",
    "\n",
    "* **label\\_style:** rótulos em negrito, cor escura e espaçamento para melhor leitura;\n",
    "* **input\\_style:** campos de entrada com largura total, bordas arredondadas e transição suave na borda;\n",
    "* **container\\_style:** contêiner principal com largura limitada, centralizado, fundo suave e sombra leve;\n",
    "* **title\\_style:** título centralizado, destacado e espaçado.\n",
    "\n",
    "Usamos o componente html.Div para estruturar e agrupar esses elementos, controlando o posicionamento dos conteúdos e organizando a interface com os controles de entrada à esquerda e o gráfico interativo à direita.\n",
    "\n",
    "A seguir, o código que implementa essa estrutura e estilo da interface:"
   ]
  },
  {
   "cell_type": "code",
   "execution_count": 10,
   "id": "fcf439b1",
   "metadata": {},
   "outputs": [],
   "source": [
    "app = Dash(__name__)\n",
    "\n",
    "label_style = {\n",
    "    'color': '#333333',\n",
    "    'fontWeight': 'bold',\n",
    "    'fontSize': '14px',\n",
    "    'marginBottom': '6px',\n",
    "    'display': 'block'\n",
    "}\n",
    "\n",
    "input_style = {\n",
    "    'width': '100%',\n",
    "    'padding': '8px 12px',\n",
    "    'border': '1px solid #ccc',\n",
    "    'borderRadius': '6px',\n",
    "    'fontSize': '14px',\n",
    "    'fontWeight': '400',\n",
    "    'outline': 'none',\n",
    "    'boxShadow': 'none',\n",
    "    'transition': 'border-color 0.3s ease'\n",
    "}\n",
    "\n",
    "container_style = {\n",
    "    'maxWidth': '1100px',\n",
    "    'margin': '40px auto',\n",
    "    'padding': '30px',\n",
    "    'backgroundColor': '#f5f5f7',\n",
    "    'borderRadius': '12px',\n",
    "    'fontFamily': 'Trebuchet MS, sans-serif',\n",
    "    'color': '#1d1d1f',\n",
    "    'boxShadow': '0 4px 12px rgba(0,0,0,0.05)'\n",
    "}\n",
    "\n",
    "title_style = {\n",
    "    'textAlign': 'center',\n",
    "    'color': '#1d1d1f',\n",
    "    'marginBottom': '40px',\n",
    "    'fontWeight': '600',\n",
    "    'fontSize': '28px'\n",
    "}\n",
    "\n",
    "app.layout = html.Div([\n",
    "    html.H1(\"Simulação - Cinética Enzimática\", style=title_style),\n",
    "\n",
    "    html.Div([\n",
    "        html.Div([\n",
    "            html.Div([\n",
    "                html.Label(\"Concentração do Substrato (mol/L)\", style=label_style),\n",
    "                dcc.Input(id='input_s', type='number', value=10, step=0.1, style=input_style)\n",
    "            ], style={'marginBottom': '10px'}),\n",
    "            html.Div([\n",
    "                html.Label(\"Constante de Dissociação do Grupo Ácido (pKa)\", style=label_style),\n",
    "                dcc.Input(id='input_pka', type='number', value=6.5, step=0.1, style=input_style)\n",
    "            ], style={'marginBottom': '10px'}),\n",
    "            html.Div([\n",
    "                html.Label(\"Constante de Dissociação do Grupo Básico (pKb)\", style=label_style),\n",
    "                dcc.Input(id='input_pkb', type='number', value=8, step=0.1, style=input_style)\n",
    "            ], style={'marginBottom': '10px'}),\n",
    "            html.Div([\n",
    "                html.Label(\"Velocidade Máxima da Reação (mol/L.s)\", style=label_style),\n",
    "                dcc.Input(id='input_vmax_ref', type='number', value=32, style=input_style)\n",
    "            ], style={'marginBottom': '10px'}),\n",
    "            html.Div([\n",
    "                html.Label(\"Energia de Ativação da Reação (kJ/mol)\", style=label_style),\n",
    "                dcc.Input(id='input_ea', type='number', value=50, style=input_style)\n",
    "            ], style={'marginBottom': '10px'}),\n",
    "            html.Div([\n",
    "                html.Label(\"Temperatura de Referência (°C)\", style=label_style),\n",
    "                dcc.Input(id='input_tref', type='number', value=25, style=input_style)\n",
    "            ], style={'marginBottom': '10px'}),\n",
    "            html.Div([\n",
    "                html.Label(\"Constante de Michaelis-Menten (mol/L)\", style=label_style),\n",
    "                dcc.Input(id='input_km_ref', type='number', value=0.4, style=input_style)\n",
    "            ], style={'marginBottom': '10px'}),\n",
    "            html.Div([\n",
    "                html.Label(\"Variação de Entalpia (kJ/mol)\", style=label_style),\n",
    "                dcc.Input(id='input_deltah', type='number', value=-20, style=input_style)\n",
    "            ], style={'marginBottom': '10px'}),\n",
    "            html.Div([\n",
    "                html.Label(\"Temperatura Ótima em Condições Ideais (°C)\", style=label_style),\n",
    "                dcc.Input(id='input_topt', type='number', value=37, style=input_style)\n",
    "            ], style={'marginBottom': '10px'}),\n",
    "            html.Div([\n",
    "                html.Label(\"Sensibilidade Térmica (°C)\", style=label_style),\n",
    "                dcc.Input(id='input_sigma', type='number', value=10, style=input_style)\n",
    "            ], style={'marginBottom': '10px'}),\n",
    "        ], style={\n",
    "            'flex': '0 0 380px',\n",
    "            'paddingRight': '30px',\n",
    "            'overflowY': 'auto',\n",
    "            'maxHeight': '750px',\n",
    "            'boxSizing': 'border-box'\n",
    "        }),\n",
    "\n",
    "        html.Div([\n",
    "            dcc.Graph(id='graph-3d', style={'height': '700px'})\n",
    "        ], style={'flex': '1'})\n",
    "    ], style={'display': 'flex', 'flexDirection': 'row'})\n",
    "], style=container_style)"
   ]
  },
  {
   "cell_type": "markdown",
   "id": "b7858792",
   "metadata": {},
   "source": [
    "## 4. Callback para Atualização do Gráfico\n",
    "\n",
    "Na sequência, definimos um callback, um dos recursos centrais da biblioteca Dash. Um callback é uma função que permite ligar componentes da interface gráfica aos dados e cálculos de backend. Em outras palavras, ele escuta mudanças nos componentes de entrada e atualiza automaticamente os elementos de saída, como gráficos ou tabelas.\n",
    "\n",
    "No nosso projeto, o callback é ativado sempre que o usuário altera algum dos parâmetros da reação (como concentração, temperatura, pH etc.). Quando isso ocorre, a função `update_graph_3d` é chamada para recalcular e redesenhar o gráfico interativo.\n",
    "\n",
    "Para entender melhor como essa função trabalha, apresentamos a seguir uma descrição detalhada das etapas realizadas pelo callback:\n",
    "\n",
    "### 4.1. O que o callback faz?\n",
    "\n",
    "#### 4.1.1. Gera grades de valores de temperatura e pH:"
   ]
  },
  {
   "cell_type": "code",
   "execution_count": 39,
   "id": "ff55bfde",
   "metadata": {},
   "outputs": [],
   "source": [
    "# T_vals = np.linspace(start, stop, num)\n",
    "# pH_vals = np.linspace(start, stop, num)\n",
    "# T_grid, pH_grid = np.meshgrid(T_vals, pH_vals)"
   ]
  },
  {
   "cell_type": "markdown",
   "id": "c8c07c92",
   "metadata": {},
   "source": [
    "* `np.linspace(start, stop, num)` cria uma sequência de `num` valores igualmente espaçados entre `start` e `stop`.\n",
    "\n",
    "* `np.meshgrid` gera duas matrizes que representam a grade de combinações entre as temperaturas (`T_vals`) e os valores de pH (`pH_vals`)."
   ]
  },
  {
   "cell_type": "markdown",
   "id": "e615d26a",
   "metadata": {},
   "source": [
    "#### 4.1.2. Calcula a velocidade da reação para cada par (T, pH) da malha:"
   ]
  },
  {
   "cell_type": "code",
   "execution_count": null,
   "id": "b6c972c3",
   "metadata": {},
   "outputs": [],
   "source": [
    "# v_grid = np.vectorize(lambda T, pH: velocidade_da_reacao(...))(T_grid, pH_grid)"
   ]
  },
  {
   "cell_type": "markdown",
   "id": "7c34110e",
   "metadata": {},
   "source": [
    "* `np.vectorize` transforma a função `velocidade_da_reacao`, que normalmente opera em um par de valores, para aceitar essas matrizes e aplicar a função elemento a elemento em toda a grade (`T_grid`, `pH_grid`).\n",
    "\n",
    "* O resultado é uma matriz `v_grid` com as velocidades calculadas para cada combinação de temperatura e pH."
   ]
  },
  {
   "cell_type": "markdown",
   "id": "0982de5d",
   "metadata": {},
   "source": [
    "#### 4.1.3. Cria um gráfico de superfície 3D interativo com os valores de velocidade calculados:"
   ]
  },
  {
   "cell_type": "code",
   "execution_count": null,
   "id": "6cbb2573",
   "metadata": {},
   "outputs": [],
   "source": [
    "# fig = go.Figure(data=[go.Surface(...)])"
   ]
  },
  {
   "cell_type": "markdown",
   "id": "4003ba11",
   "metadata": {},
   "source": [
    "* `go.Surface` cria uma superfície tridimensional baseada nos dados de `z` (velocidade) em função dos eixos `x` (temperatura) e `y` (pH).\n",
    "\n",
    "* `go.Figure` encapsula o gráfico, que pode ser manipulado e exibido no Dash."
   ]
  },
  {
   "cell_type": "markdown",
   "id": "d075e401",
   "metadata": {},
   "source": [
    "#### 4.1.4. Aplica configurações estéticas e eixos ao gráfico:"
   ]
  },
  {
   "cell_type": "code",
   "execution_count": null,
   "id": "2cfc0b7b",
   "metadata": {},
   "outputs": [],
   "source": [
    "# fig.update_layout(...)"
   ]
  },
  {
   "cell_type": "markdown",
   "id": "cf5b87d5",
   "metadata": {},
   "source": [
    "A função `fig.update_layout(...)` é usada para ajustar aspectos importantes da aparência do gráfico, incluindo:\n",
    "\n",
    "* Títulos dos eixos para facilitar a compreensão dos dados\n",
    "* Estilo e formato da fonte para melhorar a legibilidade\n",
    "* Limites das faixas dos eixos para focar nos valores relevantes\n",
    "* Cores de fundo e das grades para tornar o gráfico mais claro e visualmente agradável"
   ]
  },
  {
   "cell_type": "markdown",
   "id": "e9d20275",
   "metadata": {},
   "source": [
    "Esse processo garante que qualquer mudança feita pelo usuário nos inputs seja imediatamente refletida no gráfico, tornando a visualização responsiva e exploratória.\n",
    "\n",
    "O código completo do callback está logo abaixo:"
   ]
  },
  {
   "cell_type": "code",
   "execution_count": 11,
   "id": "0fb11c16",
   "metadata": {},
   "outputs": [],
   "source": [
    "@app.callback(\n",
    "    Output('graph-3d', 'figure'),\n",
    "    Input('input_s', 'value'),\n",
    "    Input('input_pka', 'value'),\n",
    "    Input('input_pkb', 'value'),\n",
    "    Input('input_vmax_ref', 'value'),\n",
    "    Input('input_ea', 'value'),\n",
    "    Input('input_tref', 'value'),\n",
    "    Input('input_km_ref', 'value'),\n",
    "    Input('input_deltah', 'value'),\n",
    "    Input('input_topt', 'value'),\n",
    "    Input('input_sigma', 'value')\n",
    ")\n",
    "def update_graph_3d(S, pKa, pKb, Vmax_ref, Ea, T_ref, Km_ref, deltaH, T_opt, sigma):\n",
    "    T_vals = np.linspace(10, 50, 40)\n",
    "    pH_vals = np.linspace(4, 10, 40)\n",
    "    T_grid, pH_grid = np.meshgrid(T_vals, pH_vals)\n",
    "    v_grid = np.vectorize(lambda T, pH: velocidade_da_reacao(S, T, pH, pKa, pKb, Vmax_ref, Ea, T_ref, Km_ref, deltaH, T_opt, sigma))(T_grid, pH_grid)\n",
    "\n",
    "    fig = go.Figure(data=[go.Surface(\n",
    "        z=v_grid,\n",
    "        x=T_vals,\n",
    "        y=pH_vals,\n",
    "        colorscale='Viridis',\n",
    "        colorbar=dict(title='Velocidade (mol/L·s)')\n",
    "    )])\n",
    "\n",
    "    fig.update_layout(\n",
    "        title=\"Velocidade da Reação Enzimática\",\n",
    "        title_x=0.5,\n",
    "        title_font=dict(\n",
    "            size=20,\n",
    "            color='#1d1d1f',\n",
    "            family='Arial, sans-serif',\n",
    "            weight='bold'\n",
    "        ),\n",
    "        scene=dict(\n",
    "            xaxis_title='Temperatura (°C)',\n",
    "            yaxis_title='pH',\n",
    "            zaxis_title='Velocidade (mol/L·s)',\n",
    "            xaxis=dict(showgrid=True, gridcolor='#e1e1e1', zerolinecolor='#e1e1e1', linecolor='#ccc'),\n",
    "            yaxis=dict(showgrid=True, gridcolor='#e1e1e1', zerolinecolor='#e1e1e1', linecolor='#ccc'),\n",
    "            zaxis=dict(showgrid=True, gridcolor='#e1e1e1', zerolinecolor='#e1e1e1', linecolor='#ccc'),\n",
    "            xaxis_range=[10, 50],\n",
    "            yaxis_range=[4, 10],\n",
    "        ),\n",
    "        paper_bgcolor='white',\n",
    "        plot_bgcolor='white',\n",
    "        font=dict(color='#1d1d1f')\n",
    "    )\n",
    "\n",
    "    return fig"
   ]
  },
  {
   "cell_type": "markdown",
   "id": "4d0bd3bf",
   "metadata": {},
   "source": [
    "Esse callback torna possível a visualização dinâmica da cinética enzimática, reforçando o objetivo do projeto: explorar os efeitos combinados de diversos parâmetros sobre a velocidade da reação em um ambiente interativo usando Dash e Plotly."
   ]
  },
  {
   "cell_type": "markdown",
   "id": "d334c302",
   "metadata": {},
   "source": [
    "## 5. Execução da Aplicação\n",
    "\n",
    "Após definirmos todos os componentes da aplicação (função de cálculo, layout da interface e lógica de atualização), estamos prontos para executar o app Dash localmente.\n",
    "\n",
    "Para isso, basta rodar a célula abaixo:"
   ]
  },
  {
   "cell_type": "code",
   "execution_count": null,
   "id": "11be84d9",
   "metadata": {},
   "outputs": [],
   "source": [
    "if __name__ == '__main__':\n",
    "    app.run(debug=True, port=8080)"
   ]
  },
  {
   "cell_type": "markdown",
   "id": "cd9f1ca2",
   "metadata": {},
   "source": [
    "> ⚠️ Caso ocorra um erro indicando que a porta `8080` já está em uso, basta substituir esse número por outro maior e livre no comando `app.run_server(port=8080)`. Isso garantirá que a aplicação rode sem conflitos.\n",
    "\n",
    "Em alguns ambientes, a interface interativa pode ser exibida diretamente na célula, sem necessidade de abrir o navegador. Contudo, recomenda-se abrir o aplicativo no navegador pelo endereço indicado e utilizar a tecla **F11** para ativar o modo de tela cheia, garantindo uma melhor visualização e experiência de uso:\n",
    "\n",
    "🔗 [http://127.0.0.1:8080](http://127.0.0.1:8080)\n",
    "\n",
    "> ⚠️ Lembre-se de que, se você alterou o número da porta, também deve atualizar o final do endereço no navegador para corresponder ao novo número.\n",
    "\n",
    "Ao acessar o link, você encontrará uma interface com dois painéis:\n",
    "\n",
    "* À esquerda, estão os controles onde é possível ajustar os parâmetros da reação enzimática (como concentração, temperatura, pH, energia de ativação, etc.);\n",
    "\n",
    "* À direita, será exibido um gráfico 3D interativo, que mostra como a velocidade da reação varia em função da temperatura e do pH.\n",
    "\n",
    "A cada mudança nos inputs, o gráfico será automaticamente atualizado, graças ao callback definido anteriormente, permitindo explorar visualmente o comportamento da cinética enzimática em diferentes condições experimentais."
   ]
  }
 ],
 "metadata": {
  "kernelspec": {
   "display_name": "Python 3",
   "language": "python",
   "name": "python3"
  },
  "language_info": {
   "codemirror_mode": {
    "name": "ipython",
    "version": 3
   },
   "file_extension": ".py",
   "mimetype": "text/x-python",
   "name": "python",
   "nbconvert_exporter": "python",
   "pygments_lexer": "ipython3",
   "version": "3.12.7"
  }
 },
 "nbformat": 4,
 "nbformat_minor": 5
}
